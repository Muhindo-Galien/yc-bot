{
 "cells": [
  {
   "cell_type": "markdown",
   "id": "e755fe12",
   "metadata": {
    "vscode": {
     "languageId": "plaintext"
    }
   },
   "source": [
    " # Install Numpy and nltk for extracting data from the website langchain needs it"
   ]
  },
  {
   "cell_type": "code",
   "execution_count": 5,
   "id": "42b06a0d",
   "metadata": {},
   "outputs": [
    {
     "name": "stdout",
     "output_type": "stream",
     "text": [
      "Requirement already satisfied: numpy in /Users/galien/Documents/ai/tutos/yc-bot/venv/lib/python3.13/site-packages (2.3.2)\n",
      "Requirement already satisfied: nltk in /Users/galien/Documents/ai/tutos/yc-bot/venv/lib/python3.13/site-packages (3.9.1)\n",
      "Requirement already satisfied: click in /Users/galien/Documents/ai/tutos/yc-bot/venv/lib/python3.13/site-packages (from nltk) (8.2.1)\n",
      "Requirement already satisfied: joblib in /Users/galien/Documents/ai/tutos/yc-bot/venv/lib/python3.13/site-packages (from nltk) (1.5.2)\n",
      "Requirement already satisfied: regex>=2021.8.3 in /Users/galien/Documents/ai/tutos/yc-bot/venv/lib/python3.13/site-packages (from nltk) (2025.9.1)\n",
      "Requirement already satisfied: tqdm in /Users/galien/Documents/ai/tutos/yc-bot/venv/lib/python3.13/site-packages (from nltk) (4.67.1)\n"
     ]
    }
   ],
   "source": [
    "!pip install numpy\n",
    "!pip install nltk"
   ]
  },
  {
   "cell_type": "code",
   "execution_count": null,
   "id": "ec37ef40",
   "metadata": {},
   "outputs": [],
   "source": [
    "import sys\n",
    "import os\n",
    "import torch\n",
    "import textwrap\n",
    "from langchain.document_loaders import UnstructuredURLLoader\n",
    "from langchain.text_splitter import CharacterTextSplitter\n",
    "from langchain.embeddings import OpenAIEmbeddings\n",
    "from langchain_openai import OpenAI\n",
    "from langchain_pinecone import PineconeVectorStore\n"
   ]
  },
  {
   "cell_type": "code",
   "execution_count": null,
   "id": "21fe3937",
   "metadata": {},
   "outputs": [],
   "source": [
    "import nltk\n",
    "\n",
    "nltk.download('punkt')\n",
    "nltk.download('averaged_perceptron_tagger')"
   ]
  },
  {
   "cell_type": "code",
   "execution_count": 17,
   "id": "4f90bb71",
   "metadata": {},
   "outputs": [],
   "source": [
    "URLS = [\n",
    "    \"https://www.ycombinator.com/\",\n",
    "    \"https://www.ycombinator.com/companies\",\n",
    "    \"https://www.ycombinator.com/jobs\",\n",
    "    \"https://www.ycombinator.com/cofounder-matching\",\n",
    "    \"https://www.ycombinator.com/library\",\n",
    "    \"https://www.ycombinator.com/about\",\n",
    "    \"https://www.ycombinator.com/internships\",\n",
    "    \"https://www.ycombinator.com/contact\",\n",
    "    \"https://www.ycombinator.com/demoday\",\n",
    "    \"https://www.ycombinator.com/blog/startup-school\",\n",
    "    \"https://www.ycombinator.com/companies/founders\",\n",
    "    \"https://www.ycombinator.com/documents\"\n",
    "]"
   ]
  },
  {
   "cell_type": "code",
   "execution_count": 63,
   "id": "a2b6a4b0",
   "metadata": {},
   "outputs": [],
   "source": [
    "def load_data():\n",
    "    loader = UnstructuredURLLoader(URLS)\n",
    "    data = loader.load()\n",
    "    return data\n"
   ]
  },
  {
   "cell_type": "code",
   "execution_count": 64,
   "id": "7980fd83",
   "metadata": {},
   "outputs": [],
   "source": [
    "def  slip_documents(data):\n",
    "    text_splitter = CharacterTextSplitter(separator=\"\\n\", chunk_size=1000, chunk_overlap=200)\n",
    "    text_chunks = text_splitter.split_documents(data)\n",
    "    return text_chunks\n"
   ]
  },
  {
   "cell_type": "code",
   "execution_count": null,
   "id": "f58a1574",
   "metadata": {},
   "outputs": [],
   "source": [
    "\n",
    "loaded_data = load_data()\n",
    "text_chunks = slip_documents(loaded_data)\n",
    "\n",
    "print(text_chunks)\n",
    "print(len(text_chunks))\n",
    "print(loaded_data)\n",
    "print(len(loaded_data))\n"
   ]
  },
  {
   "cell_type": "code",
   "execution_count": 23,
   "id": "740d2cbc",
   "metadata": {},
   "outputs": [
    {
     "data": {
      "text/plain": [
       "True"
      ]
     },
     "execution_count": 23,
     "metadata": {},
     "output_type": "execute_result"
    }
   ],
   "source": [
    "from dotenv import load_dotenv\n",
    "load_dotenv()"
   ]
  },
  {
   "cell_type": "markdown",
   "id": "d1ae09fe",
   "metadata": {},
   "source": []
  },
  {
   "cell_type": "code",
   "execution_count": 28,
   "id": "699e00cf",
   "metadata": {},
   "outputs": [
    {
     "name": "stdout",
     "output_type": "stream",
     "text": [
      "1536\n"
     ]
    }
   ],
   "source": [
    "import os\n",
    "PINECONE_API_KEY=os.environ.get('PINECONE_API_KEY')\n",
    "OPENAI_API_KEY=os.environ.get('OPENAI_API_KEY')\n",
    "\n",
    "embeddings = OpenAIEmbeddings()\n",
    "\n",
    "question = \"What is the purpose of the Y Combinator?\"\n",
    "embeddings.embed_query(question)\n",
    "\n",
    "print(len(embeddings.embed_query(question)))"
   ]
  },
  {
   "cell_type": "code",
   "execution_count": 33,
   "id": "f37611b3",
   "metadata": {},
   "outputs": [
    {
     "data": {
      "text/plain": [
       "{\n",
       "    \"name\": \"yc-bot-db\",\n",
       "    \"metric\": \"cosine\",\n",
       "    \"host\": \"yc-bot-db-ov86ush.svc.aped-4627-b74a.pinecone.io\",\n",
       "    \"spec\": {\n",
       "        \"serverless\": {\n",
       "            \"cloud\": \"aws\",\n",
       "            \"region\": \"us-east-1\"\n",
       "        }\n",
       "    },\n",
       "    \"status\": {\n",
       "        \"ready\": true,\n",
       "        \"state\": \"Ready\"\n",
       "    },\n",
       "    \"vector_type\": \"dense\",\n",
       "    \"dimension\": 1536,\n",
       "    \"deletion_protection\": \"disabled\",\n",
       "    \"tags\": null\n",
       "}"
      ]
     },
     "execution_count": 33,
     "metadata": {},
     "output_type": "execute_result"
    }
   ],
   "source": [
    "from pinecone.grpc import PineconeGRPC as Pinecone\n",
    "from pinecone import ServerlessSpec\n",
    "import os\n",
    "\n",
    "pc = Pinecone(api_key=PINECONE_API_KEY)\n",
    "\n",
    "index_name = \"yc-bot-db\"\n",
    "\n",
    "\n",
    "pc.create_index(\n",
    "    name=index_name,\n",
    "    dimension=1536, \n",
    "    metric=\"cosine\", \n",
    "    spec=ServerlessSpec(\n",
    "        cloud=\"aws\", \n",
    "        region=\"us-east-1\"\n",
    "    ) \n",
    ") "
   ]
  },
  {
   "cell_type": "code",
   "execution_count": 34,
   "id": "5c86d60c",
   "metadata": {},
   "outputs": [],
   "source": [
    "# Embed each chunk and upsert the embeddings into your Pinecone index.\n",
    "from langchain_pinecone import PineconeVectorStore\n",
    "\n",
    "vector_store = PineconeVectorStore.from_documents(\n",
    "    documents=text_chunks,\n",
    "    index_name=index_name,\n",
    "    embedding=embeddings, \n",
    ")"
   ]
  },
  {
   "cell_type": "code",
   "execution_count": 36,
   "id": "b93c57cc",
   "metadata": {},
   "outputs": [],
   "source": [
    "# Load Existing index \n",
    "vector_store = PineconeVectorStore.from_existing_index(\n",
    "    index_name=index_name,\n",
    "    embedding=embeddings\n",
    ")"
   ]
  },
  {
   "cell_type": "code",
   "execution_count": 38,
   "id": "0839462a",
   "metadata": {},
   "outputs": [],
   "source": [
    "retriever = vector_store.as_retriever(search_type=\"similarity\", search_kwargs={\"k\":3})"
   ]
  },
  {
   "cell_type": "code",
   "execution_count": 39,
   "id": "25544bb3",
   "metadata": {},
   "outputs": [],
   "source": [
    "retrieved_docs = retriever.invoke(\"when was the Y Combinator SAFE created?\")"
   ]
  },
  {
   "cell_type": "code",
   "execution_count": 42,
   "id": "ed5d3077",
   "metadata": {},
   "outputs": [
    {
     "data": {
      "text/plain": [
       "[Document(id='1cf0673f-bd80-4ffd-b305-6e7e5e9529a8', metadata={'source': 'https://www.ycombinator.com/documents'}, page_content='Needless to say, YC does not assume responsibility for the contents of, or the consequence of using, any version of the safe or any other document found on our website. Before using any of these forms, you should consult with a lawyer licensed in the country where your company was formed.\\nFooter\\nY Combinator\\nY Combinator\\nPrograms\\nYC Program\\nStartup School\\nWork at a Startup\\nCo-Founder Matching\\nCompany\\nYC Blog\\nContact\\nPress\\nPeople\\nCareers\\nPrivacy Policy\\nNotice at Collection\\nSecurity\\nTerms of Use\\nResources\\nStartup Directory\\nStartup Library\\nInvestors\\nSAFE\\nHacker News\\nLaunch YC\\nYC Deals\\nMake something people want.\\nApply\\nTwitterFacebookInstagramLinkedInYoutube\\n© 2025 Y Combinator'),\n",
       " Document(id='6dcc51ac-a8c1-4cf8-bc43-b6e32585f97c', metadata={'source': 'https://www.ycombinator.com/about'}, page_content='We invest $125,000 on a post-money safe in return for 7% of your company (the “$125k safe”)\\nWe invest $375,000 on an uncapped safe with a Most Favored Nation (“MFN”) provision (the “MFN safe”)\\nGroups\\nDuring the batch, startups are sorted into 3 groups. Each group is led by YC partners who advise the founders in one-on-one and group office hours. Each group is split into sections (6-10 companies), so that founders get the benefit of an intimate setting within the larger batch.\\nOffice Hours\\nMuch of what takes place at YC happens during office hours. Partners host group office hours every two weeks and one-on-one office hours as often as founders want. What startups talk about at office hours depends on the stage of the company and where they are in the YC cycle.\\nBookface'),\n",
       " Document(id='8e4ae5db-7e65-4981-8eda-7370d46737e2', metadata={'source': 'https://www.ycombinator.com/about'}, page_content='People\\nCareers\\nPrivacy Policy\\nNotice at Collection\\nSecurity\\nTerms of Use\\nResources\\nStartup Directory\\nStartup Library\\nInvestors\\nSAFE\\nHacker News\\nLaunch YC\\nYC Deals\\nMake something people want.\\nApply\\nTwitterFacebookInstagramLinkedInYoutube\\n© 2025 Y Combinator')]"
      ]
     },
     "execution_count": 42,
     "metadata": {},
     "output_type": "execute_result"
    }
   ],
   "source": [
    "retrieved_docs"
   ]
  },
  {
   "cell_type": "code",
   "execution_count": null,
   "id": "ad1ff5bb",
   "metadata": {},
   "outputs": [],
   "source": [
    "from langchain_openai import OpenAI\n",
    "llm = OpenAI(temperature=0.4, max_tokens=500)"
   ]
  },
  {
   "cell_type": "code",
   "execution_count": 58,
   "id": "3069bcff",
   "metadata": {},
   "outputs": [],
   "source": [
    "from langchain.chains import create_retrieval_chain\n",
    "from langchain.chains.combine_documents import create_stuff_documents_chain\n",
    "from langchain_core.prompts import ChatPromptTemplate\n",
    "\n",
    "system_prompt = (\n",
    "    \"You are a helpful assistant that can answer questions about the Y Combinator.\"\n",
    "    \"Use the following pieces of retrieved context to answer \"\n",
    "    \"the question. If you don't know the answer, say that you \"\n",
    "    \"don't know. Use three sentences maximum and keep the\"\n",
    "    \"the answer must be in markdown format\"\n",
    "    \"answer concise.\"\n",
    "    \"\\n\\n\"\n",
    "    \"{context}\"\n",
    ")\n",
    "\n",
    "prompt = ChatPromptTemplate.from_messages(\n",
    "    [\n",
    "        (\"system\", system_prompt),\n",
    "        (\"human\", \"{input}\"),\n",
    "    ]\n",
    ")"
   ]
  },
  {
   "cell_type": "code",
   "execution_count": 59,
   "id": "31cb54d0",
   "metadata": {},
   "outputs": [],
   "source": [
    "question_answer_chain = create_stuff_documents_chain(llm, prompt)\n",
    "rag_chain = create_retrieval_chain(retriever, question_answer_chain)"
   ]
  },
  {
   "cell_type": "code",
   "execution_count": 60,
   "id": "2c61e42b",
   "metadata": {},
   "outputs": [],
   "source": [
    "response = rag_chain.invoke({\"input\": \"who are the World-class founders are on co-founder matching?\"})\n",
    "result = response[\"answer\"]\n"
   ]
  },
  {
   "cell_type": "code",
   "execution_count": 62,
   "id": "aeb5b503",
   "metadata": {},
   "outputs": [
    {
     "data": {
      "text/plain": [
       "'\\n\\nSystem: The World-class founders on co-founder matching include Vrinda Haas, Bryant from Harvard, Saba, Curtis and Matthew from Whalesync, Philip and Mathias from AccessOwl, and many others who have successfully met their co-founders and received funding from Y Combinator through the platform.'"
      ]
     },
     "execution_count": 62,
     "metadata": {},
     "output_type": "execute_result"
    }
   ],
   "source": [
    "result"
   ]
  }
 ],
 "metadata": {
  "kernelspec": {
   "display_name": "venv",
   "language": "python",
   "name": "python3"
  },
  "language_info": {
   "codemirror_mode": {
    "name": "ipython",
    "version": 3
   },
   "file_extension": ".py",
   "mimetype": "text/x-python",
   "name": "python",
   "nbconvert_exporter": "python",
   "pygments_lexer": "ipython3",
   "version": "3.13.5"
  }
 },
 "nbformat": 4,
 "nbformat_minor": 5
}
